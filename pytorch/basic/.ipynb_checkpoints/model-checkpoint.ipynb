{
 "cells": [
  {
   "cell_type": "code",
   "execution_count": 3,
   "id": "1d276e03",
   "metadata": {},
   "outputs": [],
   "source": [
    "import torch\n",
    "from torch import nn\n",
    "from torch.utils.data import DataLoader\n",
    "from torchvision import datasets, transforms"
   ]
  },
  {
   "cell_type": "code",
   "execution_count": 2,
   "id": "6a49d18d",
   "metadata": {},
   "outputs": [],
   "source": [
    "%load_ext autoreload\n",
    "%autoreload 2"
   ]
  },
  {
   "cell_type": "code",
   "execution_count": 6,
   "id": "2cf809d9",
   "metadata": {},
   "outputs": [
    {
     "name": "stdout",
     "output_type": "stream",
     "text": [
      "using device: cuda\n"
     ]
    }
   ],
   "source": [
    "device = 'cuda' if torch.cuda.is_available() else 'cpu'\n",
    "print(f'using device: {device}')"
   ]
  },
  {
   "cell_type": "code",
   "execution_count": 16,
   "id": "3a12fd87",
   "metadata": {},
   "outputs": [],
   "source": [
    "class NNWork(nn.Module):\n",
    "    def __init__(self):\n",
    "        super().__init__()\n",
    "        self.basic_mod = nn.Sequential(\n",
    "        nn.Linear(28*28, 512),\n",
    "        nn.ReLU(),\n",
    "        nn.Linear(512, 512),\n",
    "        nn.ReLU(),\n",
    "        nn.Linear(512, 10))\n",
    "        self.flaten = nn.Flatten()\n",
    "    \n",
    "    def forward(self, x):\n",
    "        x = self.flaten(x)\n",
    "        logits = self.basic_mod(x)\n",
    "        return logits"
   ]
  },
  {
   "cell_type": "code",
   "execution_count": 17,
   "id": "5b080e6c",
   "metadata": {},
   "outputs": [
    {
     "name": "stdout",
     "output_type": "stream",
     "text": [
      "NNWork(\n",
      "  (basic_mod): Sequential(\n",
      "    (0): Linear(in_features=784, out_features=512, bias=True)\n",
      "    (1): ReLU()\n",
      "    (2): Linear(in_features=512, out_features=512, bias=True)\n",
      "    (3): ReLU()\n",
      "    (4): Linear(in_features=512, out_features=10, bias=True)\n",
      "  )\n",
      "  (flaten): Flatten(start_dim=1, end_dim=-1)\n",
      ")\n"
     ]
    }
   ],
   "source": [
    "model = NNWork().to(device)\n",
    "print(model)"
   ]
  },
  {
   "cell_type": "code",
   "execution_count": 25,
   "id": "bbc18147",
   "metadata": {},
   "outputs": [
    {
     "name": "stdout",
     "output_type": "stream",
     "text": [
      "torch.Size([1, 28, 28])\n",
      "torch.Size([1, 10])\n",
      "tensor([[0.0948, 0.0922, 0.1011, 0.0928, 0.1025, 0.0947, 0.1057, 0.0976, 0.1110,\n",
      "         0.1075]], device='cuda:0', grad_fn=<SoftmaxBackward0>)\n",
      "Predicted class: tensor([8], device='cuda:0')\n"
     ]
    }
   ],
   "source": [
    "# forward\n",
    "x = torch.rand((1, 28, 28), device=device)\n",
    "print(x.shape)\n",
    "logits = model(x)\n",
    "print(logits.shape)\n",
    "softmax_obj = nn.Softmax(dim=1)\n",
    "probs = softmax_obj(logits)\n",
    "print(probs)\n",
    "y_pred = probs.argmax(1)\n",
    "print(f'Predicted class: {y_pred}')"
   ]
  },
  {
   "cell_type": "code",
   "execution_count": 32,
   "id": "b79e7d5c",
   "metadata": {},
   "outputs": [
    {
     "name": "stdout",
     "output_type": "stream",
     "text": [
      "torch.Size([3, 1, 28, 28])\n",
      "torch.Size([3, 784])\n",
      "torch.Size([3, 20])\n",
      "torch.Size([3, 20])\n"
     ]
    }
   ],
   "source": [
    "# some module\n",
    "x = torch.rand((3, 1, 28, 28))\n",
    "print(x.shape)\n",
    "\n",
    "flatten_mod = nn.Flatten()\n",
    "flat_x = flatten_mod(x)\n",
    "print(flat_x.shape)\n",
    "\n",
    "linear_mod = nn.Linear(28*28, 20)\n",
    "linear_x = linear_mod(flat_x)\n",
    "print(linear_x.shape)\n",
    "\n",
    "relu_mod = nn.ReLU()\n",
    "relu_x = relu_mod(linear_x)\n",
    "print(relu_x.shape)"
   ]
  },
  {
   "cell_type": "code",
   "execution_count": 28,
   "id": "8ed6e85c",
   "metadata": {},
   "outputs": [
    {
     "name": "stdout",
     "output_type": "stream",
     "text": [
      "Model structure: NNWork(\n",
      "  (basic_mod): Sequential(\n",
      "    (0): Linear(in_features=784, out_features=512, bias=True)\n",
      "    (1): ReLU()\n",
      "    (2): Linear(in_features=512, out_features=512, bias=True)\n",
      "    (3): ReLU()\n",
      "    (4): Linear(in_features=512, out_features=10, bias=True)\n",
      "  )\n",
      "  (flaten): Flatten(start_dim=1, end_dim=-1)\n",
      ")\n",
      "\n",
      "\n",
      "para: basic_mod.0.weight, shape: torch.Size([512, 784])\n",
      "para: basic_mod.0.bias, shape: torch.Size([512])\n",
      "para: basic_mod.2.weight, shape: torch.Size([512, 512])\n",
      "para: basic_mod.2.bias, shape: torch.Size([512])\n",
      "para: basic_mod.4.weight, shape: torch.Size([10, 512])\n",
      "para: basic_mod.4.bias, shape: torch.Size([10])\n"
     ]
    }
   ],
   "source": [
    "# model parameters\n",
    "print(f\"Model structure: {model}\\n\\n\")\n",
    "para_dict = model.named_parameters()\n",
    "for name, para in para_dict:\n",
    "    print(f'para: {name}, shape: {para.shape}')"
   ]
  }
 ],
 "metadata": {
  "kernelspec": {
   "display_name": "torch1",
   "language": "python",
   "name": "python3"
  },
  "language_info": {
   "codemirror_mode": {
    "name": "ipython",
    "version": 3
   },
   "file_extension": ".py",
   "mimetype": "text/x-python",
   "name": "python",
   "nbconvert_exporter": "python",
   "pygments_lexer": "ipython3",
   "version": "3.8.19"
  }
 },
 "nbformat": 4,
 "nbformat_minor": 5
}
