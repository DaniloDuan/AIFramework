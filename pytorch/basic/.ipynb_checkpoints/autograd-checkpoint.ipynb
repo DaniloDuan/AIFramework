{
 "cells": [
  {
   "cell_type": "code",
   "execution_count": 1,
   "id": "50d3a714",
   "metadata": {},
   "outputs": [],
   "source": [
    "import torch"
   ]
  },
  {
   "cell_type": "code",
   "execution_count": 2,
   "id": "54bf38dc",
   "metadata": {},
   "outputs": [],
   "source": [
    "%load_ext autoreload\n",
    "%autoreload 2"
   ]
  },
  {
   "cell_type": "code",
   "execution_count": 4,
   "id": "4325e6ad",
   "metadata": {},
   "outputs": [
    {
     "name": "stdout",
     "output_type": "stream",
     "text": [
      "tensor(0.8379, grad_fn=<BinaryCrossEntropyWithLogitsBackward0>)\n"
     ]
    }
   ],
   "source": [
    "x = torch.ones(5)\n",
    "y = torch.zeros(3)\n",
    "\n",
    "w = torch.randn((5, 3), requires_grad=True)\n",
    "b = torch.randn((3,), requires_grad=True)\n",
    "\n",
    "z = torch.matmul(x, w) + b\n",
    "loss = torch.nn.functional.binary_cross_entropy_with_logits(z, y)\n",
    "print(loss)"
   ]
  },
  {
   "cell_type": "code",
   "execution_count": 6,
   "id": "754d31b1",
   "metadata": {},
   "outputs": [
    {
     "name": "stdout",
     "output_type": "stream",
     "text": [
      "grad function of z: <AddBackward0 object at 0x000002275F29EA30>\n",
      "grad function of loss: <BinaryCrossEntropyWithLogitsBackward0 object at 0x000002275F28B970>\n",
      "grad of w: tensor([[0.2799, 0.1616, 0.0065],\n",
      "        [0.2799, 0.1616, 0.0065],\n",
      "        [0.2799, 0.1616, 0.0065],\n",
      "        [0.2799, 0.1616, 0.0065],\n",
      "        [0.2799, 0.1616, 0.0065]])\n",
      "grad of b: tensor([0.2799, 0.1616, 0.0065])\n"
     ]
    }
   ],
   "source": [
    "# grad_fn and grad\n",
    "print(f'grad function of z: {z.grad_fn}')\n",
    "print(f'grad function of loss: {loss.grad_fn}')\n",
    "\n",
    "loss.backward()\n",
    "print(f'grad of w: {w.grad}')\n",
    "print(f'grad of b: {b.grad}')"
   ]
  },
  {
   "cell_type": "code",
   "execution_count": 7,
   "id": "0cf5218f",
   "metadata": {},
   "outputs": [
    {
     "name": "stdout",
     "output_type": "stream",
     "text": [
      "True\n",
      "False\n"
     ]
    }
   ],
   "source": [
    "# control the grad\n",
    "z = torch.matmul(x, w)+b\n",
    "print(z.requires_grad)\n",
    "\n",
    "with torch.no_grad():\n",
    "    z = torch.matmul(x, w)+b\n",
    "print(z.requires_grad)"
   ]
  },
  {
   "cell_type": "code",
   "execution_count": 8,
   "id": "e5d19e39",
   "metadata": {},
   "outputs": [
    {
     "name": "stdout",
     "output_type": "stream",
     "text": [
      "True\n",
      "False\n"
     ]
    }
   ],
   "source": [
    "z = torch.matmul(x, w) + b\n",
    "print(z.requires_grad)\n",
    "z.detach_()\n",
    "print(z.requires_grad)"
   ]
  }
 ],
 "metadata": {
  "kernelspec": {
   "display_name": "torch1",
   "language": "python",
   "name": "python3"
  },
  "language_info": {
   "codemirror_mode": {
    "name": "ipython",
    "version": 3
   },
   "file_extension": ".py",
   "mimetype": "text/x-python",
   "name": "python",
   "nbconvert_exporter": "python",
   "pygments_lexer": "ipython3",
   "version": "3.8.19"
  }
 },
 "nbformat": 4,
 "nbformat_minor": 5
}
