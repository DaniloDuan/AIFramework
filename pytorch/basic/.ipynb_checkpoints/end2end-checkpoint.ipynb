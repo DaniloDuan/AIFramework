{
 "cells": [
  {
   "cell_type": "code",
   "execution_count": 5,
   "id": "03990a4c",
   "metadata": {},
   "outputs": [],
   "source": [
    "import os\n",
    "\n",
    "import torch\n",
    "from torch import nn\n",
    "from torch.utils.data import Dataset, DataLoader\n",
    "\n",
    "from torchvision import datasets\n",
    "from torchvision.transforms import ToTensor"
   ]
  },
  {
   "cell_type": "code",
   "execution_count": 4,
   "id": "6e5c8244",
   "metadata": {},
   "outputs": [],
   "source": [
    "%load_ext autoreload\n",
    "%autoreload 2"
   ]
  },
  {
   "cell_type": "code",
   "execution_count": 10,
   "id": "b03b1076",
   "metadata": {},
   "outputs": [],
   "source": [
    "device = 'cuda' if torch.cuda.is_available() else 'cpu'"
   ]
  },
  {
   "cell_type": "code",
   "execution_count": 8,
   "id": "92964b6d",
   "metadata": {},
   "outputs": [
    {
     "name": "stdout",
     "output_type": "stream",
     "text": [
      "dataset path: F:\\XudongDuan\\workspace\\Common\\AIFramework\\data\n"
     ]
    }
   ],
   "source": [
    "# dataset\n",
    "root_data = os.path.abspath('../../data')\n",
    "print(f'dataset path: {root_data}')\n",
    "\n",
    "train_dataset = datasets.FashionMNIST(root=root_data, train=True, download=True, transform=ToTensor())\n",
    "test_dataset = datasets.FashionMNIST(root=root_data, train=False, download=True, transform=ToTensor())"
   ]
  },
  {
   "cell_type": "code",
   "execution_count": 9,
   "id": "102f656e",
   "metadata": {},
   "outputs": [
    {
     "name": "stdout",
     "output_type": "stream",
     "text": [
      "shape of x: torch.Size([64, 1, 28, 28])\n",
      "shape of y: torch.Size([64])\n"
     ]
    }
   ],
   "source": [
    "# data loader\n",
    "bs = 64\n",
    "\n",
    "train_dataloader = DataLoader(train_dataset, batch_size=bs)\n",
    "test_dataloader = DataLoader(test_dataset, batch_size=bs)\n",
    "\n",
    "# test loader\n",
    "for x, y in test_dataloader:\n",
    "    print(f'shape of x: {x.shape}')\n",
    "    print(f'shape of y: {y.shape}')\n",
    "    break"
   ]
  },
  {
   "cell_type": "code",
   "execution_count": 25,
   "id": "271901c7",
   "metadata": {},
   "outputs": [
    {
     "name": "stdout",
     "output_type": "stream",
     "text": [
      "MLP(\n",
      "  (flatten): Flatten(start_dim=1, end_dim=-1)\n",
      "  (main_body): Sequential(\n",
      "    (0): Linear(in_features=784, out_features=512, bias=True)\n",
      "    (1): BatchNorm1d(512, eps=1e-05, momentum=0.1, affine=True, track_running_stats=True)\n",
      "    (2): ReLU()\n",
      "    (3): Linear(in_features=512, out_features=512, bias=True)\n",
      "    (4): BatchNorm1d(512, eps=1e-05, momentum=0.1, affine=True, track_running_stats=True)\n",
      "    (5): ReLU()\n",
      "    (6): Linear(in_features=512, out_features=10, bias=True)\n",
      "  )\n",
      ")\n"
     ]
    }
   ],
   "source": [
    "# model\n",
    "class MLP(nn.Module):\n",
    "    def __init__(self):\n",
    "        super().__init__()\n",
    "        self.flatten = nn.Flatten()\n",
    "        self.main_body = nn.Sequential(\n",
    "        nn.Linear(28*28, 512),\n",
    "        nn.BatchNorm1d(512),\n",
    "        nn.ReLU(),\n",
    "        nn.Linear(512, 512),\n",
    "        nn.BatchNorm1d(512),\n",
    "        nn.ReLU(),\n",
    "        nn.Linear(512, 10)\n",
    "        )\n",
    "        \n",
    "    def forward(self, x):\n",
    "        x = self.flatten(x)\n",
    "        logits = self.main_body(x)\n",
    "        return logits\n",
    "    \n",
    "model = MLP().to(device)\n",
    "print(model)"
   ]
  },
  {
   "cell_type": "code",
   "execution_count": 26,
   "id": "346c1c90",
   "metadata": {},
   "outputs": [],
   "source": [
    "# optimizer\n",
    "lr = 1.0e-3\n",
    "loss = torch.nn.CrossEntropyLoss()\n",
    "optimizer = torch.optim.SGD(model.parameters(), lr=lr)\n",
    "lr_scheduler = torch.optim.lr_scheduler.ExponentialLR(optimizer, gamma=0.9)"
   ]
  },
  {
   "cell_type": "code",
   "execution_count": 27,
   "id": "90146bcc",
   "metadata": {},
   "outputs": [],
   "source": [
    "# train and test\n",
    "def train(data_loader, model, optimizer, scheduler, loss_fn, device):\n",
    "    model.train()\n",
    "    for batch, (x, y) in enumerate(data_loader):\n",
    "        x, y = x.to(device), y.to(device)\n",
    "\n",
    "        # Compute prediction error\n",
    "        pred = model(x)\n",
    "        loss = loss_fn(pred, y)\n",
    "\n",
    "        # Backpropagation\n",
    "        optimizer.zero_grad()\n",
    "        loss.backward()\n",
    "        optimizer.step()\n",
    "\n",
    "        if batch % 1000 == 0:\n",
    "            loss = loss.item()\n",
    "            lr = optimizer.param_groups[0]['lr']\n",
    "            print(f\"LR: {lr}, loss: {loss:>7f}\")\n",
    "\n",
    "def test(data_loader, model, loss_fn, device):\n",
    "    model.eval()\n",
    "    size = len(data_loader.dataset)\n",
    "    num_batches = len(data_loader)\n",
    "    test_loss, correct = 0, 0\n",
    "    with torch.no_grad():\n",
    "        for x, y in data_loader:\n",
    "            x, y = x.to(device), y.to(device)\n",
    "            pred = model(x)\n",
    "            test_loss += loss_fn(pred, y).item()\n",
    "            correct += (pred.argmax(1) == y).type(torch.float).sum().item()\n",
    "    test_loss /= num_batches\n",
    "    correct /= size\n",
    "    print(f\"Test Error: \\n Accuracy: {(100*correct):>0.1f}%, Avg loss: {test_loss:>8f} \\n\")"
   ]
  },
  {
   "cell_type": "code",
   "execution_count": 28,
   "id": "314791ad",
   "metadata": {},
   "outputs": [
    {
     "name": "stdout",
     "output_type": "stream",
     "text": [
      "Epoch: 0\n",
      "LR: 0.001, loss: 2.453668\n",
      "Test Error: \n",
      " Accuracy: 78.5%, Avg loss: 0.667944 \n",
      "\n",
      "Epoch: 1\n",
      "LR: 0.0009000000000000001, loss: 0.640635\n",
      "Test Error: \n",
      " Accuracy: 81.2%, Avg loss: 0.557258 \n",
      "\n",
      "Epoch: 2\n",
      "LR: 0.0008100000000000001, loss: 0.507010\n",
      "Test Error: \n",
      " Accuracy: 82.4%, Avg loss: 0.510056 \n",
      "\n",
      "Epoch: 3\n",
      "LR: 0.000729, loss: 0.445112\n",
      "Test Error: \n",
      " Accuracy: 83.3%, Avg loss: 0.483115 \n",
      "\n",
      "Epoch: 4\n",
      "LR: 0.0006561000000000001, loss: 0.408429\n",
      "Test Error: \n",
      " Accuracy: 83.9%, Avg loss: 0.465304 \n",
      "\n",
      "Epoch: 5\n",
      "LR: 0.00059049, loss: 0.383853\n",
      "Test Error: \n",
      " Accuracy: 84.3%, Avg loss: 0.452446 \n",
      "\n",
      "Epoch: 6\n",
      "LR: 0.000531441, loss: 0.365316\n",
      "Test Error: \n",
      " Accuracy: 84.5%, Avg loss: 0.442748 \n",
      "\n"
     ]
    }
   ],
   "source": [
    "epoch = 7\n",
    "for i in range(epoch):\n",
    "    print(f'Epoch: {i}')\n",
    "    train(train_dataloader, model, optimizer, lr_scheduler, loss, device)\n",
    "    test(test_dataloader, model, loss, device)\n",
    "    lr_scheduler.step()"
   ]
  },
  {
   "cell_type": "code",
   "execution_count": 29,
   "id": "d66abdfe",
   "metadata": {},
   "outputs": [
    {
     "name": "stdout",
     "output_type": "stream",
     "text": [
      "Saved PyTorch Model State to model.pth\n"
     ]
    }
   ],
   "source": [
    "# save\n",
    "pth_path = os.path.join('../../model', 'model.pth')\n",
    "torch.save(model.state_dict(), pth_path)\n",
    "print(\"Saved PyTorch Model State to model.pth\")"
   ]
  },
  {
   "cell_type": "code",
   "execution_count": 30,
   "id": "8647e1eb",
   "metadata": {},
   "outputs": [
    {
     "data": {
      "text/plain": [
       "<All keys matched successfully>"
      ]
     },
     "execution_count": 30,
     "metadata": {},
     "output_type": "execute_result"
    }
   ],
   "source": [
    "# load\n",
    "model_test = MLP().to(device)\n",
    "model_test.load_state_dict(torch.load(pth_path))"
   ]
  },
  {
   "cell_type": "code",
   "execution_count": 31,
   "id": "c88ba69f",
   "metadata": {},
   "outputs": [
    {
     "name": "stdout",
     "output_type": "stream",
     "text": [
      "Predicted: \"Ankle boot\", Actual: \"Ankle boot\"\n"
     ]
    }
   ],
   "source": [
    "# predict\n",
    "classes = [\n",
    "    \"T-shirt/top\",\n",
    "    \"Trouser\",\n",
    "    \"Pullover\",\n",
    "    \"Dress\",\n",
    "    \"Coat\",\n",
    "    \"Sandal\",\n",
    "    \"Shirt\",\n",
    "    \"Sneaker\",\n",
    "    \"Bag\",\n",
    "    \"Ankle boot\",\n",
    "]\n",
    "\n",
    "model.eval()\n",
    "x, y = test_dataset[0][0], test_dataset[0][1]\n",
    "with torch.no_grad():\n",
    "    x = x.to(device)\n",
    "    pred = model(x)\n",
    "    predicted, actual = classes[pred[0].argmax(0)], classes[y]\n",
    "    print(f'Predicted: \"{predicted}\", Actual: \"{actual}\"')"
   ]
  },
  {
   "cell_type": "code",
   "execution_count": null,
   "id": "decac8a7",
   "metadata": {},
   "outputs": [],
   "source": []
  }
 ],
 "metadata": {
  "kernelspec": {
   "display_name": "torch1",
   "language": "python",
   "name": "python3"
  },
  "language_info": {
   "codemirror_mode": {
    "name": "ipython",
    "version": 3
   },
   "file_extension": ".py",
   "mimetype": "text/x-python",
   "name": "python",
   "nbconvert_exporter": "python",
   "pygments_lexer": "ipython3",
   "version": "3.8.19"
  }
 },
 "nbformat": 4,
 "nbformat_minor": 5
}
