{
 "cells": [
  {
   "cell_type": "code",
   "execution_count": 20,
   "id": "46a21a28",
   "metadata": {},
   "outputs": [],
   "source": [
    "import os\n",
    "\n",
    "import torch\n",
    "from torch import nn\n",
    "from torch import optim"
   ]
  },
  {
   "cell_type": "code",
   "execution_count": 8,
   "id": "046baca5",
   "metadata": {},
   "outputs": [
    {
     "name": "stdout",
     "output_type": "stream",
     "text": [
      "The autoreload extension is already loaded. To reload it, use:\n",
      "  %reload_ext autoreload\n"
     ]
    }
   ],
   "source": [
    "%load_ext autoreload\n",
    "%autoreload 2"
   ]
  },
  {
   "cell_type": "code",
   "execution_count": 12,
   "id": "72bbc3b1",
   "metadata": {},
   "outputs": [
    {
     "name": "stdout",
     "output_type": "stream",
     "text": [
      "F:\\XudongDuan\\workspace\\Common\\AIFramework\\model\n"
     ]
    }
   ],
   "source": [
    "save_dir = os.path.abspath('../../model')\n",
    "print(save_dir)"
   ]
  },
  {
   "cell_type": "code",
   "execution_count": 9,
   "id": "76a79824",
   "metadata": {},
   "outputs": [],
   "source": [
    "class NeuralNetwork(nn.Module):\n",
    "    def __init__(self):\n",
    "        super().__init__()\n",
    "        self.flatten = nn.Flatten()\n",
    "        self.linear_relu_stack = nn.Sequential(\n",
    "            nn.Linear(28*28, 512),\n",
    "            nn.ReLU(),\n",
    "            nn.Linear(512, 512),\n",
    "            nn.ReLU(),\n",
    "            nn.Linear(512, 10),\n",
    "        )\n",
    "\n",
    "    def forward(self, x):\n",
    "        x = self.flatten(x)\n",
    "        logits = self.linear_relu_stack(x)\n",
    "        return logits"
   ]
  },
  {
   "cell_type": "code",
   "execution_count": 10,
   "id": "e54cb17a",
   "metadata": {},
   "outputs": [],
   "source": [
    "model = NeuralNetwork()"
   ]
  },
  {
   "cell_type": "code",
   "execution_count": 16,
   "id": "5f577cfc",
   "metadata": {},
   "outputs": [
    {
     "data": {
      "text/plain": [
       "<All keys matched successfully>"
      ]
     },
     "execution_count": 16,
     "metadata": {},
     "output_type": "execute_result"
    }
   ],
   "source": [
    "# only parameter\n",
    "torch.save(model.state_dict(), os.path.join(save_dir, 'model_weights.pth'))\n",
    "model.load_state_dict(torch.load(os.path.join(save_dir, 'model_weights.pth')))"
   ]
  },
  {
   "cell_type": "code",
   "execution_count": 18,
   "id": "28e1693f",
   "metadata": {},
   "outputs": [],
   "source": [
    "# model and parameter\n",
    "model_pth = os.path.join(save_dir, 'model.pth')\n",
    "torch.save(model, model_pth)\n",
    "# This approach uses Python pickle module when serializing the model, thus it relies on the actual class definition to be available when loading the model\n",
    "model = torch.load(model_pth)"
   ]
  },
  {
   "cell_type": "code",
   "execution_count": 22,
   "id": "2a9b3481",
   "metadata": {},
   "outputs": [
    {
     "name": "stdout",
     "output_type": "stream",
     "text": [
      "NeuralNetwork(\n",
      "  (flatten): Flatten(start_dim=1, end_dim=-1)\n",
      "  (linear_relu_stack): Sequential(\n",
      "    (0): Linear(in_features=784, out_features=512, bias=True)\n",
      "    (1): ReLU()\n",
      "    (2): Linear(in_features=512, out_features=512, bias=True)\n",
      "    (3): ReLU()\n",
      "    (4): Linear(in_features=512, out_features=10, bias=True)\n",
      "  )\n",
      ")\n"
     ]
    }
   ],
   "source": [
    "# checkpoint: model, optimizer, epoch, schudule\n",
    "print(model)\n",
    "optimizer = optim.SGD(model.parameters(), lr=0.001, momentum=0.9)\n",
    "scheduler = torch.optim.lr_scheduler.ExponentialLR(optimizer, gamma=0.9)\n",
    "epoch = 5\n",
    "loss = 0.5\n",
    "for i in range(epoch):\n",
    "    optimizer.step()\n",
    "    scheduler.step()"
   ]
  },
  {
   "cell_type": "code",
   "execution_count": 24,
   "id": "78cbed70",
   "metadata": {},
   "outputs": [],
   "source": [
    "# save\n",
    "checkpoint = os.path.join(save_dir, 'checkpoint.tar')\n",
    "torch.save({\n",
    "    'epoch': epoch,\n",
    "    'loss': loss,\n",
    "    'model_state_dict': model.state_dict(),\n",
    "    'optim_state_dict': optimizer.state_dict(),\n",
    "    'schedule_state_dict': scheduler.state_dict()\n",
    "}, checkpoint)"
   ]
  },
  {
   "cell_type": "code",
   "execution_count": 25,
   "id": "be84eb81",
   "metadata": {},
   "outputs": [],
   "source": [
    "# load\n",
    "model1 = NeuralNetwork()\n",
    "optimizer = optim.SGD(model.parameters(), lr=0.001, momentum=0.9)\n",
    "scheduler = torch.optim.lr_scheduler.ExponentialLR(optimizer, gamma=0.9)\n",
    "\n",
    "checkpoint_dict = torch.load(checkpoint)\n",
    "model1.load_state_dict(checkpoint_dict['model_state_dict'])\n",
    "optimizer.load_state_dict(checkpoint_dict['optim_state_dict'])\n",
    "scheduler.load_state_dict(checkpoint_dict['schedule_state_dict'])\n",
    "epoch = checkpoint_dict['epoch']\n",
    "loss = checkpoint_dict['loss']"
   ]
  },
  {
   "cell_type": "code",
   "execution_count": 27,
   "id": "9ef5e551",
   "metadata": {},
   "outputs": [
    {
     "name": "stdout",
     "output_type": "stream",
     "text": [
      "NeuralNetwork(\n",
      "  (flatten): Flatten(start_dim=1, end_dim=-1)\n",
      "  (linear_relu_stack): Sequential(\n",
      "    (0): Linear(in_features=784, out_features=512, bias=True)\n",
      "    (1): ReLU()\n",
      "    (2): Linear(in_features=512, out_features=512, bias=True)\n",
      "    (3): ReLU()\n",
      "    (4): Linear(in_features=512, out_features=10, bias=True)\n",
      "  )\n",
      ")\n",
      "SGD (\n",
      "Parameter Group 0\n",
      "    dampening: 0\n",
      "    differentiable: False\n",
      "    foreach: None\n",
      "    initial_lr: 0.001\n",
      "    lr: 0.00059049\n",
      "    maximize: False\n",
      "    momentum: 0.9\n",
      "    nesterov: False\n",
      "    weight_decay: 0\n",
      ")\n",
      "<torch.optim.lr_scheduler.ExponentialLR object at 0x000001F43203FF70>\n",
      "5\n",
      "0.5\n"
     ]
    }
   ],
   "source": [
    "# print info\n",
    "print(model1)\n",
    "print(optimizer)\n",
    "print(scheduler)\n",
    "print(epoch)\n",
    "print(loss)"
   ]
  }
 ],
 "metadata": {
  "kernelspec": {
   "display_name": "torch1",
   "language": "python",
   "name": "python3"
  },
  "language_info": {
   "codemirror_mode": {
    "name": "ipython",
    "version": 3
   },
   "file_extension": ".py",
   "mimetype": "text/x-python",
   "name": "python",
   "nbconvert_exporter": "python",
   "pygments_lexer": "ipython3",
   "version": "3.8.19"
  }
 },
 "nbformat": 4,
 "nbformat_minor": 5
}
