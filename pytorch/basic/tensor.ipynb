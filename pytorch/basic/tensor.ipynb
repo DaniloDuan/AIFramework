{
 "cells": [
  {
   "cell_type": "code",
   "execution_count": 4,
   "id": "56d05f5f",
   "metadata": {},
   "outputs": [],
   "source": [
    "import numpy as np\n",
    "import torch"
   ]
  },
  {
   "cell_type": "code",
   "execution_count": 5,
   "id": "09612b4b",
   "metadata": {
    "scrolled": true
   },
   "outputs": [
    {
     "name": "stdout",
     "output_type": "stream",
     "text": [
      "The autoreload extension is already loaded. To reload it, use:\n",
      "  %reload_ext autoreload\n"
     ]
    }
   ],
   "source": [
    "%load_ext autoreload\n",
    "%autoreload 2"
   ]
  },
  {
   "cell_type": "code",
   "execution_count": 23,
   "id": "e94095c8",
   "metadata": {},
   "outputs": [],
   "source": [
    "def tell_tensor(data):\n",
    "    print(f'data: {data}')\n",
    "    print(f'shape: {data.shape}')\n",
    "    print(f'dtype: {data.dtype}')\n",
    "    print(f'device: {data.device}')\n",
    "    print(f'stride: {data.stride()}')\n",
    "    data_cuda = data.cuda()\n",
    "    print(f'device: {data_cuda.device}')"
   ]
  },
  {
   "cell_type": "markdown",
   "id": "e9b68115",
   "metadata": {},
   "source": [
    "### tensor 初始化"
   ]
  },
  {
   "cell_type": "code",
   "execution_count": 24,
   "id": "3bc12ce9",
   "metadata": {},
   "outputs": [
    {
     "name": "stdout",
     "output_type": "stream",
     "text": [
      "data: tensor([[1, 2],\n",
      "        [3, 4]])\n",
      "shape: torch.Size([2, 2])\n",
      "dtype: torch.int64\n",
      "device: cpu\n",
      "stride: (2, 1)\n",
      "device: cuda:0\n"
     ]
    }
   ],
   "source": [
    "# from list\n",
    "data = [[1, 2], [3, 4]]\n",
    "x_data = torch.tensor(data)\n",
    "tell_tensor(x_data)"
   ]
  },
  {
   "cell_type": "code",
   "execution_count": 25,
   "id": "d9b62f50",
   "metadata": {},
   "outputs": [
    {
     "name": "stdout",
     "output_type": "stream",
     "text": [
      "data: tensor([[1, 2],\n",
      "        [3, 4]], dtype=torch.int32)\n",
      "shape: torch.Size([2, 2])\n",
      "dtype: torch.int32\n",
      "device: cpu\n",
      "stride: (2, 1)\n",
      "device: cuda:0\n"
     ]
    }
   ],
   "source": [
    "# from numpy\n",
    "np_array = np.array(data)\n",
    "x_np = torch.from_numpy(np_array)\n",
    "tell_tensor(x_np)"
   ]
  },
  {
   "cell_type": "code",
   "execution_count": 28,
   "id": "a399f913",
   "metadata": {},
   "outputs": [
    {
     "name": "stdout",
     "output_type": "stream",
     "text": [
      "data: tensor([[1, 1],\n",
      "        [1, 1]], dtype=torch.int32)\n",
      "shape: torch.Size([2, 2])\n",
      "dtype: torch.int32\n",
      "device: cpu\n",
      "stride: (2, 1)\n",
      "device: cuda:0\n",
      "data: tensor([[0.5899, 0.5108],\n",
      "        [0.8617, 0.4414]])\n",
      "shape: torch.Size([2, 2])\n",
      "dtype: torch.float32\n",
      "device: cpu\n",
      "stride: (2, 1)\n",
      "device: cuda:0\n"
     ]
    }
   ],
   "source": [
    "# anthor tensor\n",
    "x_one = torch.ones_like(x_np)\n",
    "tell_tensor(x_one)\n",
    "x_rand = torch.rand_like(x_np, dtype=torch.float32)\n",
    "tell_tensor(x_rand)"
   ]
  },
  {
   "cell_type": "code",
   "execution_count": 30,
   "id": "fcc54e47",
   "metadata": {},
   "outputs": [
    {
     "name": "stdout",
     "output_type": "stream",
     "text": [
      "data: tensor([[0.8499, 0.5348, 0.9935],\n",
      "        [0.9290, 0.8268, 0.2349],\n",
      "        [0.1043, 0.3614, 0.4428]])\n",
      "shape: torch.Size([3, 3])\n",
      "dtype: torch.float32\n",
      "device: cpu\n",
      "stride: (3, 1)\n",
      "device: cuda:0\n",
      "data: tensor([[1., 1., 1.],\n",
      "        [1., 1., 1.],\n",
      "        [1., 1., 1.]])\n",
      "shape: torch.Size([3, 3])\n",
      "dtype: torch.float32\n",
      "device: cpu\n",
      "stride: (3, 1)\n",
      "device: cuda:0\n"
     ]
    }
   ],
   "source": [
    "# some api\n",
    "shape = (3, 3,)\n",
    "rand_data = torch.rand(shape)\n",
    "one_data = torch.ones(shape)\n",
    "tell_tensor(rand_data)\n",
    "tell_tensor(one_data)"
   ]
  },
  {
   "cell_type": "markdown",
   "id": "9703b0e9",
   "metadata": {},
   "source": [
    "### operation"
   ]
  },
  {
   "cell_type": "code",
   "execution_count": 35,
   "id": "fb767b24",
   "metadata": {},
   "outputs": [
    {
     "name": "stdout",
     "output_type": "stream",
     "text": [
      "First row: tensor([1., 1., 1., 1.])\n",
      "First column: tensor([1., 1., 1., 1.])\n",
      "Last column: tensor([1., 1., 1., 1.])\n",
      "tensor([[1., 0., 1., 1.],\n",
      "        [1., 0., 1., 1.],\n",
      "        [1., 0., 1., 1.],\n",
      "        [1., 0., 1., 1.]])\n"
     ]
    }
   ],
   "source": [
    "# index\n",
    "tensor = torch.ones(4, 4)\n",
    "print(f\"First row: {tensor[0]}\")\n",
    "print(f\"First column: {tensor[:, 0]}\")\n",
    "print(f\"Last column: {tensor[..., -1]}\")\n",
    "tensor[:, 1] = 0\n",
    "print(tensor)"
   ]
  },
  {
   "cell_type": "code",
   "execution_count": 39,
   "id": "63e413bb",
   "metadata": {},
   "outputs": [
    {
     "name": "stdout",
     "output_type": "stream",
     "text": [
      "shape: torch.Size([4, 4])\n",
      "shape: torch.Size([4, 12])\n"
     ]
    }
   ],
   "source": [
    "# join\n",
    "print(f'shape: {tensor.shape}')\n",
    "tensor_cat = torch.cat([tensor, tensor, tensor], dim=1)\n",
    "print(f'shape: {tensor_cat.shape}')"
   ]
  },
  {
   "cell_type": "code",
   "execution_count": 40,
   "id": "fff0484d",
   "metadata": {},
   "outputs": [
    {
     "data": {
      "text/plain": [
       "tensor([[3., 3., 3., 3.],\n",
       "        [3., 3., 3., 3.],\n",
       "        [3., 3., 3., 3.],\n",
       "        [3., 3., 3., 3.]])"
      ]
     },
     "execution_count": 40,
     "metadata": {},
     "output_type": "execute_result"
    }
   ],
   "source": [
    "# Arithmetic operations\n",
    "y1 = tensor @ tensor.T\n",
    "y2 = tensor.matmul(tensor.T)\n",
    "\n",
    "y3 = torch.rand_like(y1)\n",
    "torch.matmul(tensor, tensor.T, out=y3)"
   ]
  },
  {
   "cell_type": "code",
   "execution_count": 41,
   "id": "56a3d6f9",
   "metadata": {},
   "outputs": [
    {
     "data": {
      "text/plain": [
       "tensor([[1., 0., 1., 1.],\n",
       "        [1., 0., 1., 1.],\n",
       "        [1., 0., 1., 1.],\n",
       "        [1., 0., 1., 1.]])"
      ]
     },
     "execution_count": 41,
     "metadata": {},
     "output_type": "execute_result"
    }
   ],
   "source": [
    "# This computes the element-wise product. z1, z2, z3 will have the same value\n",
    "z1 = tensor * tensor\n",
    "z2 = tensor.mul(tensor)\n",
    "\n",
    "z3 = torch.rand_like(tensor)\n",
    "torch.mul(tensor, tensor, out=z3)"
   ]
  },
  {
   "cell_type": "code",
   "execution_count": 43,
   "id": "3f00cfd8",
   "metadata": {},
   "outputs": [
    {
     "name": "stdout",
     "output_type": "stream",
     "text": [
      "tensor(12.) <class 'torch.Tensor'>\n",
      "12.0 <class 'float'>\n"
     ]
    }
   ],
   "source": [
    "# single element\n",
    "agg = tensor.sum()\n",
    "print(agg, type(agg))\n",
    "agg_item = agg.item()\n",
    "print(agg_item, type(agg_item))"
   ]
  },
  {
   "cell_type": "code",
   "execution_count": 46,
   "id": "c2b314f9",
   "metadata": {},
   "outputs": [
    {
     "name": "stdout",
     "output_type": "stream",
     "text": [
      "tensor([[11., 10., 11., 11.],\n",
      "        [11., 10., 11., 11.],\n",
      "        [11., 10., 11., 11.],\n",
      "        [11., 10., 11., 11.]]) \n",
      "\n",
      "tensor([[16., 15., 16., 16.],\n",
      "        [16., 15., 16., 16.],\n",
      "        [16., 15., 16., 16.],\n",
      "        [16., 15., 16., 16.]])\n"
     ]
    }
   ],
   "source": [
    "# inplace\n",
    "print(f\"{tensor} \\n\")\n",
    "tensor.add_(5)\n",
    "print(tensor)"
   ]
  },
  {
   "cell_type": "markdown",
   "id": "d00959f1",
   "metadata": {},
   "source": [
    "### with numpy"
   ]
  },
  {
   "cell_type": "code",
   "execution_count": 48,
   "id": "b2ed9482",
   "metadata": {},
   "outputs": [
    {
     "name": "stdout",
     "output_type": "stream",
     "text": [
      "t: tensor([1., 1., 1., 1., 1.])\n",
      "n: [1. 1. 1. 1. 1.]\n",
      "t: tensor([2., 2., 2., 2., 2.])\n",
      "n: [2. 2. 2. 2. 2.]\n"
     ]
    }
   ],
   "source": [
    "# tensor to numpy\n",
    "t = torch.ones(5)\n",
    "print(f\"t: {t}\")\n",
    "n = t.numpy()\n",
    "print(f\"n: {n}\")\n",
    "\n",
    "t.add_(1)\n",
    "print(f\"t: {t}\")\n",
    "print(f\"n: {n}\")"
   ]
  },
  {
   "cell_type": "code",
   "execution_count": 49,
   "id": "47062f55",
   "metadata": {},
   "outputs": [
    {
     "name": "stdout",
     "output_type": "stream",
     "text": [
      "t: tensor([2., 2., 2., 2., 2.], dtype=torch.float64)\n",
      "n: [2. 2. 2. 2. 2.]\n"
     ]
    }
   ],
   "source": [
    "# numpy to tensor\n",
    "n = np.ones(5)\n",
    "t = torch.from_numpy(n)\n",
    "\n",
    "np.add(n, 1, out=n)\n",
    "print(f\"t: {t}\")\n",
    "print(f\"n: {n}\")"
   ]
  }
 ],
 "metadata": {
  "kernelspec": {
   "display_name": "torch1",
   "language": "python",
   "name": "python3"
  },
  "language_info": {
   "codemirror_mode": {
    "name": "ipython",
    "version": 3
   },
   "file_extension": ".py",
   "mimetype": "text/x-python",
   "name": "python",
   "nbconvert_exporter": "python",
   "pygments_lexer": "ipython3",
   "version": "3.8.19"
  }
 },
 "nbformat": 4,
 "nbformat_minor": 5
}
